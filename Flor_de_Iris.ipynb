{
  "nbformat": 4,
  "nbformat_minor": 0,
  "metadata": {
    "colab": {
      "name": "Flor de Iris.ipynb",
      "provenance": [],
      "collapsed_sections": [
        "ntJXMZBPuu0x",
        "_JQkKDnc2T6e",
        "H_Ce-Nc1MiqZ"
      ],
      "toc_visible": true,
      "authorship_tag": "ABX9TyOOIPvweR7+iAQHbWd8Hzpf",
      "include_colab_link": true
    },
    "kernelspec": {
      "name": "python3",
      "display_name": "Python 3"
    },
    "language_info": {
      "name": "python"
    }
  },
  "cells": [
    {
      "cell_type": "markdown",
      "metadata": {
        "id": "view-in-github",
        "colab_type": "text"
      },
      "source": [
        "<a href=\"https://colab.research.google.com/github/leandroleao2k/PyLeao/blob/main/Flor_de_Iris.ipynb\" target=\"_parent\"><img src=\"https://colab.research.google.com/assets/colab-badge.svg\" alt=\"Open In Colab\"/></a>"
      ]
    },
    {
      "cell_type": "markdown",
      "source": [
        "# Problema da classes de Flor de Iris\n",
        "\n",
        "https://scipy-lectures.org/packages/scikit-learn/index.html#introduction-problem-settings"
      ],
      "metadata": {
        "id": "fnS6Dtbp0Nvz"
      }
    },
    {
      "cell_type": "code",
      "source": [
        ""
      ],
      "metadata": {
        "id": "iB82WyiR0Zov"
      },
      "execution_count": null,
      "outputs": []
    }
  ]
}