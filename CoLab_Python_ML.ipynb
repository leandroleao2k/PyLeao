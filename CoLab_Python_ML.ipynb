{
  "cells": [
    {
      "cell_type": "markdown",
      "metadata": {
        "id": "view-in-github",
        "colab_type": "text"
      },
      "source": [
        "<a href=\"https://colab.research.google.com/github/leandroleao2k/PyLeao/blob/main/CoLab_Python_ML.ipynb\" target=\"_parent\"><img src=\"https://colab.research.google.com/assets/colab-badge.svg\" alt=\"Open In Colab\"/></a>"
      ]
    },
    {
      "cell_type": "markdown",
      "source": [
        "# Regressão Logística\n"
      ],
      "metadata": {
        "id": "BXhSnl0ffFkL"
      }
    },
    {
      "cell_type": "markdown",
      "source": [
        "**negrito**# Ex1 Logistic Regression trabalha a predição de variáveis com bi valores. "
      ],
      "metadata": {
        "id": "Mm7mNjjyXDJ1"
      }
    },
    {
      "cell_type": "code",
      "source": [
        "# 1 Import libs\n",
        "import pandas as pd\n",
        "import numpy as np\n",
        "from sklearn.model_selection import train_test_split\n",
        "from sklearn.linear_model import LogisticRegression\n",
        "from sklearn import metrics\n",
        "import matplotlib.pyplot as plt\n",
        "\n"
      ],
      "metadata": {
        "id": "W_d6htZHCZFl"
      },
      "execution_count": null,
      "outputs": []
    },
    {
      "cell_type": "code",
      "source": [
        "#2 Carregar dados\n",
        "temperatura =  [[30], [12], [14], [18], [25], [5], [15], [27], [28], [12], [14], [18], [25], [5], [15], [27]]\n",
        "jaqueta = [False, True, True, True, False, True, True, False, False, True, True, True, False, True, True, False]\n",
        "\n",
        "lr = LogisticRegression()\n",
        "lr.fit(temperatura,jaqueta)\n",
        "deveVestirJaqueta = [ [25], [4], [12], [35]]\n",
        "lr.predict(deveVestirJaqueta)"
      ],
      "metadata": {
        "colab": {
          "base_uri": "https://localhost:8080/"
        },
        "id": "DzkT8Jp_CmBp",
        "outputId": "7a239a20-3d5b-4762-f379-04aaf77cb1c5"
      },
      "execution_count": null,
      "outputs": [
        {
          "output_type": "execute_result",
          "data": {
            "text/plain": [
              "array([False,  True,  True, False])"
            ]
          },
          "metadata": {},
          "execution_count": 22
        }
      ]
    },
    {
      "cell_type": "code",
      "source": [
        "#3 prepare the model \n",
        "#define the predictor variables and the response variable\n",
        "X = temperatura\n",
        "y = jaqueta\n",
        "\n",
        "#4 split the dataset into training (80%) and testing (20%) sets\n",
        "X_train,X_test,y_train,y_test = train_test_split(X,y,test_size=0.2,random_state=0) \n",
        "print(X_train)\n",
        "print(y_train)\n",
        "\n",
        "#5 Fit the logist regression model\n",
        "#instantiate the model\n",
        "log_regression = LogisticRegression()\n",
        "\n",
        "#fit the model using the training data\n",
        "log_regression.fit(X_train,y_train)\n",
        "\n",
        "#use model to make predictions on test data\n",
        "y_pred = log_regression.predict(X_test)\n",
        "\n",
        "print(y_pred)\n"
      ],
      "metadata": {
        "colab": {
          "base_uri": "https://localhost:8080/"
        },
        "id": "jvkvVvSMC6Nf",
        "outputId": "cc75a12e-2c30-4a48-ede9-c64dabb0bb41"
      },
      "execution_count": null,
      "outputs": [
        {
          "output_type": "stream",
          "name": "stdout",
          "text": [
            "[[12], [27], [18], [30], [5], [25]]\n",
            "[True, False, True, False, True, False]\n",
            "[ True  True]\n"
          ]
        }
      ]
    },
    {
      "cell_type": "code",
      "source": [
        "#6 Model diagnostics\n",
        "# create a confusion matrix to test model\n",
        "\n",
        "print(\"y_test:\", y_test, \" y_pred:\", y_pred )\n",
        "cnf_matrix = metrics.confusion_matrix(y_test, y_pred)\n",
        "print(cnf_matrix)\n",
        "\n",
        "print(\"Accuracy:\",metrics.accuracy_score(y_test, y_pred))\n"
      ],
      "metadata": {
        "colab": {
          "base_uri": "https://localhost:8080/"
        },
        "id": "_XJg7G_cENeT",
        "outputId": "e1473204-03e1-4f20-9cd7-de90658e8214"
      },
      "execution_count": null,
      "outputs": [
        {
          "output_type": "stream",
          "name": "stdout",
          "text": [
            "y_test: [True, True]  y_pred: [ True  True]\n",
            "[[2]]\n",
            "Accuracy: 1.0\n"
          ]
        }
      ]
    },
    {
      "cell_type": "code",
      "source": [
        "#The higher the AUC (area under the curve), the more accurately our model is able to predict outcomes:\n",
        "#define metrics\n",
        "from sklearn.metrics import roc_auc_score\n",
        "\n",
        "y_pred_proba = log_regression.predict_proba(X_test)[::,1]\n",
        "fpr, tpr, _ = metrics.roc_curve(y_test,  y_pred_proba)\n",
        "\n",
        "try:\n",
        "    auc = metrics.roc_auc_score(y_test, y_pred_proba)\n",
        "    plt.plot(fpr,tpr,label=\"AUC=\"+str(auc))\n",
        "except ValueError:\n",
        "    pass\n",
        "\n",
        "#create ROC curve\n",
        "plt.legend(loc=4)\n",
        "plt.show()"
      ],
      "metadata": {
        "colab": {
          "base_uri": "https://localhost:8080/",
          "height": 341
        },
        "id": "Tpgyfg6jj0ho",
        "outputId": "23dc2af7-f697-4b48-ab78-d65c4acd02d7"
      },
      "execution_count": null,
      "outputs": [
        {
          "output_type": "stream",
          "name": "stderr",
          "text": [
            "/usr/local/lib/python3.7/dist-packages/sklearn/metrics/_ranking.py:992: UndefinedMetricWarning: No negative samples in y_true, false positive value should be meaningless\n",
            "  UndefinedMetricWarning,\n",
            "No handles with labels found to put in legend.\n"
          ]
        },
        {
          "output_type": "display_data",
          "data": {
            "image/png": "[encoded data removed]",
            "text/plain": [
              "<Figure size 432x288 with 1 Axes>"
            ]
          },
          "metadata": {
            "needs_background": "light"
          }
        }
      ]
    },
    {
      "cell_type": "markdown",
      "source": [
        "# Exemplo SciKit Learn"
      ],
      "metadata": {
        "id": "8Wvkpthf0ULK"
      }
    },
    {
      "cell_type": "markdown",
      "source": [
        ""
      ],
      "metadata": {
        "id": "hkkK-1qY4g-M"
      }
    },
    {
      "cell_type": "code",
      "source": [
        "\n",
        "from time import time\n",
        "import numpy as np\n",
        "import matplotlib.pyplot as plt\n",
        "\n",
        "from sklearn import linear_model\n",
        "from sklearn import datasets\n",
        "from sklearn.svm import l1_min_c\n",
        "\n",
        "iris = datasets.load_iris()\n",
        "X = iris.data\n",
        "y = iris.target\n",
        "\n",
        "X = X[y != 2]\n",
        "y = y[y != 2]\n",
        "\n",
        "X /= X.max()  # Normalize X to speed-up convergence\n",
        "\n",
        "# #############################################################################\n",
        "# Demo path functions\n",
        "\n",
        "cs = l1_min_c(X, y, loss=\"log\") * np.logspace(0, 7, 16)\n",
        "\n",
        "\n",
        "print(\"Computing regularization path ...\")\n",
        "start = time()\n",
        "clf = linear_model.LogisticRegression(\n",
        "    penalty=\"l1\",\n",
        "    solver=\"liblinear\",\n",
        "    tol=1e-6,\n",
        "    max_iter=int(1e6),\n",
        "    warm_start=True,\n",
        "    intercept_scaling=10000.0,\n",
        ")\n",
        "coefs_ = []\n",
        "for c in cs:\n",
        "    clf.set_params(C=c)\n",
        "    clf.fit(X, y)\n",
        "    coefs_.append(clf.coef_.ravel().copy())\n",
        "print(\"This took %0.3fs\" % (time() - start))\n",
        "\n",
        "coefs_ = np.array(coefs_)\n",
        "plt.plot(np.log10(cs), coefs_, marker=\"o\")\n",
        "ymin, ymax = plt.ylim()\n",
        "plt.xlabel(\"log(C)\")\n",
        "plt.ylabel(\"Coefficients\")\n",
        "plt.title(\"Logistic Regression Path\")\n",
        "plt.axis(\"tight\")\n",
        "plt.show()"
      ],
      "metadata": {
        "colab": {
          "base_uri": "https://localhost:8080/",
          "height": 330
        },
        "id": "loWDKyDy0aYV",
        "outputId": "42b223e7-736f-4133-ada7-0751604494da"
      },
      "execution_count": null,
      "outputs": [
        {
          "output_type": "stream",
          "name": "stdout",
          "text": [
            "Computing regularization path ...\n",
            "This took 0.280s\n"
          ]
        },
        {
          "output_type": "display_data",
          "data": {
            "image/png": "[encoded data removed]",
            "text/plain": [
              "<Figure size 432x288 with 1 Axes>"
            ]
          },
          "metadata": {
            "needs_background": "light"
          }
        }
      ]
    },
    {
      "cell_type": "markdown",
      "source": [
        "# CoLab"
      ],
      "metadata": {
        "id": "wM0A6lEigQqj"
      }
    },
    {
      "cell_type": "markdown",
      "metadata": {
        "id": "5fCEDCU_qrC0"
      },
      "source": [
        "<p><img alt=\"Colaboratory logo\" height=\"45px\" src=\"/img/colab_favicon.ico\" align=\"left\" hspace=\"10px\" vspace=\"0px\"></p>\n",
        "\n",
        "<h1>O que é o Colaboratory?</h1>\n",
        "\n",
        "O Colaboratory ou \"Colab\" permite escrever código Python no seu navegador, com: \n",
        "- Nenhuma configuração necessária\n",
        "- Acesso gratuito a GPUs\n",
        "- Compartilhamento fácil\n",
        "\n",
        "Você pode ser um <strong>estudante</strong>, um <strong>cientista de dados</strong> ou um <strong>pesquisador de IA</strong>, o Colab pode facilitar seu trabalho. Assista ao vídeo <a href=\"https://www.youtube.com/watch?v=inN8seMm7UI\">Introdução ao Colab</a> para saber mais ou simplesmente comece a usá-lo abaixo!"
      ]
    },
    {
      "cell_type": "markdown",
      "metadata": {
        "id": "GJBs_flRovLc"
      },
      "source": [
        "## <strong>Primeiros passos</strong>\n",
        "\n",
        "O documento que você está lendo não é uma página da Web estática, mas sim um ambiente interativo chamado <strong>notebook Colab</strong> que permite escrever e executar código.\n",
        "\n",
        "Por exemplo, aqui está uma <strong>célula de código</strong> com um breve script Python que calcula um valor, armazena-o em uma variável e imprime o resultado:"
      ]
    },
    {
      "cell_type": "code",
      "execution_count": null,
      "metadata": {
        "colab": {
          "base_uri": "https://localhost:8080/"
        },
        "id": "gJr_9dXGpJ05",
        "outputId": "617a51fa-23d7-4aab-899a-4d1805e64442"
      },
      "outputs": [
        {
          "output_type": "execute_result",
          "data": {
            "text/plain": [
              "86400"
            ]
          },
          "metadata": {},
          "execution_count": 1
        }
      ],
      "source": [
        "seconds_in_a_day = 24 * 60 * 60\n",
        "seconds_in_a_day"
      ]
    },
    {
      "cell_type": "markdown",
      "metadata": {
        "id": "2fhs6GZ4qFMx"
      },
      "source": [
        "Para executar o código na célula acima, clique nela e depois pressione o botão Play à esquerda do código ou use o atalho do teclado \"Command/Ctrl+Enter\". Para editar o código, basta clicar na célula e começar a editar.\n",
        "\n",
        "As variáveis definidas em uma célula podem ser usadas mais tarde em outras células:"
      ]
    },
    {
      "cell_type": "code",
      "execution_count": null,
      "metadata": {
        "colab": {
          "base_uri": "https://localhost:8080/",
          "height": 34
        },
        "id": "-gE-Ez1qtyIA",
        "outputId": "94cb2224-0edf-457b-90b5-0ac3488d8a97"
      },
      "outputs": [
        {
          "data": {
            "text/plain": [
              "604800"
            ]
          },
          "execution_count": 0,
          "metadata": {
            "tags": []
          },
          "output_type": "execute_result"
        }
      ],
      "source": [
        "seconds_in_a_week = 7 * seconds_in_a_day\n",
        "seconds_in_a_week"
      ]
    },
    {
      "cell_type": "markdown",
      "metadata": {
        "id": "lSrWNr3MuFUS"
      },
      "source": [
        "Os notebooks do Colab permitem combinar <strong>código executável</strong> e <strong>rich text</strong> em um só documento, além de <strong>imagens</strong>, <strong>HTML</strong>, <strong>LaTeX</strong> e muito mais. Quando você cria seus próprios notebooks do Colab, eles são armazenados na sua conta do Google Drive. É possível compartilhar os notebooks do Colab facilmente com colegas de trabalho ou amigos e permitir que eles façam comentários ou até editem o documento. Para saber mais, consulte a <a href=\"/notebooks/basic_features_overview.ipynb\">Visão Geral do Colab</a>. Para criar um novo notebook do Colab, use o menu Arquivo acima ou acesse o seguinte: <a href=\"http://colab.research.google.com#create=true\">criar um novo notebook do Colab</a>.\n",
        "\n",
        "Os notebooks do Colab são notebooks do Jupyter hospedados no Colab. Para saber mais sobre o projeto Jupyter, acesse <a href=\"https://www.jupyter.org\">jupyter.org</a>."
      ]
    },
    {
      "cell_type": "markdown",
      "metadata": {
        "id": "UdRyKR44dcNI"
      },
      "source": [
        "## Ciência de dados\n",
        "\n",
        "Com o Colab, você pode aproveitar todo o potencial das conhecidas bibliotecas Python para analisar e ver dados. A célula de códigos abaixo usa <strong>numpy</strong> para gerar dados aleatórios e <strong>matplotlib</strong> para visualizá-los. Para editar o código, basta clicar na célula e começar a editar."
      ]
    },
    {
      "cell_type": "code",
      "source": [
        ""
      ],
      "metadata": {
        "id": "C5w19AwKW_X5"
      },
      "execution_count": null,
      "outputs": []
    },
    {
      "cell_type": "code",
      "execution_count": null,
      "metadata": {
        "colab": {
          "base_uri": "https://localhost:8080/",
          "height": 281
        },
        "id": "C4HZx7Gndbrh",
        "outputId": "8dd0c7a8-099e-4c96-bdee-91406136e42b"
      },
      "outputs": [
        {
          "output_type": "display_data",
          "data": {
            "image/png": "[encoded data removed]",
            "text/plain": [
              "<Figure size 432x288 with 1 Axes>"
            ]
          },
          "metadata": {
            "needs_background": "light"
          }
        }
      ],
      "source": [
        "import numpy as np\n",
        "from matplotlib import pyplot as plt\n",
        "\n",
        "ys = 200 + np.random.randn(100)\n",
        "x = [x for x in range(len(ys))]\n",
        "\n",
        "plt.plot(x, ys, '-')\n",
        "plt.fill_between(x, ys, 195, where=(ys > 195), facecolor='g', alpha=0.6)\n",
        "\n",
        "plt.title(\"Sample Visualization\")\n",
        "plt.show()"
      ]
    },
    {
      "cell_type": "markdown",
      "metadata": {
        "id": "4_kCnsPUqS6o"
      },
      "source": [
        "É possível importar para os notebooks do Colab os dados da sua conta do Google Drive, como planilhas. Também é possível importar do GitHub e de muitas outras fontes. Para saber mais sobre como importar dados e como o Colab pode ser usado para a ciência de dados, consulte o link abaixo em <a href=\"#working-with-data\">Como trabalhar com dados</a>."
      ]
    },
    {
      "cell_type": "markdown",
      "metadata": {
        "id": "OwuxHmxllTwN"
      },
      "source": [
        "## Machine learning\n",
        "\n",
        "Com o Colab, é possível importar um conjunto de dados de imagem, treinar um classificador de imagens dentro dele e avaliar o modelo, tudo com apenas <a href=\"https://colab.research.google.com/github/tensorflow/docs/blob/master/site/en/tutorials/quickstart/beginner.ipynb\">algumas linhas de código</a>. Os notebooks do Colab executam código dos servidores em nuvem do Google. Isso significa que você pode tirar proveito da potência de hardware do Google, como <a href=\"#using-accelerated-hardware\">GPUs e TPUs</a>, independentemente da potência da sua máquina. Você só precisa de um navegador."
      ]
    },
    {
      "cell_type": "markdown",
      "metadata": {
        "id": "ufxBm1yRnruN"
      },
      "source": [
        "O Colab é usado amplamente pela comunidade de machine learning, para aplicações como:\n",
        "- Primeiros passos com o TensorFlow\n",
        "- Desenvolvimento e treinamento de redes neurais\n",
        "- Experimentos com TPUs\n",
        "- Divulgação de pesquisas em IA\n",
        "- Criação de tutoriais\n",
        "\n",
        "Para ver notebooks do Colab que demonstram aplicações de machine learning, consulte os <a href=\"#machine-learning-examples\">exemplos de machine learning</a> abaixo."
      ]
    },
    {
      "cell_type": "markdown",
      "metadata": {
        "id": "-Rh3-Vt9Nev9"
      },
      "source": [
        "## Mais recursos\n",
        "\n",
        "### Como trabalhar com Notebooks no Colab\n",
        "- [Visão geral do Colaboratory](/notebooks/basic_features_overview.ipynb)\n",
        "- [Guia sobre Markdown](/notebooks/markdown_guide.ipynb)\n",
        "- [Importar bibliotecas e instalar dependências](/notebooks/snippets/importing_libraries.ipynb)\n",
        "- [Salvar e carregar notebooks no GitHub](https://colab.research.google.com/github/googlecolab/colabtools/blob/main/notebooks/colab-github-demo.ipynb)\n",
        "- [Formulários interativos](/notebooks/forms.ipynb)\n",
        "- [Widgets interativos](/notebooks/widgets.ipynb)\n",
        "- <img src=\"/img/new.png\" height=\"20px\" align=\"left\" hspace=\"4px\" alt=\"New\"></img>\n",
        " [TensorFlow 2 no Colab](/notebooks/tensorflow_version.ipynb)\n",
        "\n",
        "<a name=\"working-with-data\"></a>\n",
        "### Como trabalhar com dados\n",
        "- [Carregar dados: Drive, Planilhas e Google Cloud Storage](/notebooks/io.ipynb) \n",
        "- [Gráficos: visualizar dados](/notebooks/charts.ipynb)\n",
        "- [Primeiros passos com o BigQuery](/notebooks/bigquery.ipynb)\n",
        "\n",
        "### Curso intensivo de machine learning\n",
        "Estes são alguns notebooks do curso on-line do Google sobre machine learning. Acesse o <a href=\"https://developers.google.com/machine-learning/crash-course/\">site do curso completo</a> para saber mais.\n",
        "- [Introdução ao Pandas DataFrame](https://colab.research.google.com/github/google/eng-edu/blob/main/ml/cc/exercises/pandas_dataframe_ultraquick_tutorial.ipynb)\n",
        "- [Regressão linear com tf.keras e uso de dados sintéticos](https://colab.research.google.com/github/google/eng-edu/blob/main/ml/cc/exercises/linear_regression_with_synthetic_data.ipynb)\n",
        "\n",
        "\n",
        "<a name=\"using-accelerated-hardware\"></a>\n",
        "### Usar hardware acelerado\n",
        "- [TensorFlow com GPUs](/notebooks/gpu.ipynb)\n",
        "- [TensorFlow com TPUs](/notebooks/tpu.ipynb)"
      ]
    },
    {
      "cell_type": "markdown",
      "metadata": {
        "id": "P-H6Lw1vyNNd"
      },
      "source": [
        "<a name=\"machine-learning-examples\"></a>\n",
        "\n",
        "## Exemplos de machine learning\n",
        "\n",
        "Para ver exemplos completos das análises interativas de machine learning possibilitadas pelo Colaboratory, confira estes tutoriais que usam modelos do <a href=\"https://tfhub.dev\">TensorFlow Hub</a>.\n",
        "\n",
        "Vejas alguns exemplos:\n",
        "\n",
        "- <a href=\"https://tensorflow.org/hub/tutorials/tf2_image_retraining\">Treinar novamente um classificador de imagens</a>: crie um modelo do Keras com base em um classificador de imagens pré-treinado para distinguir flores.\n",
        "- <a href=\"https://tensorflow.org/hub/tutorials/tf2_text_classification\">Classificação de texto</a>: classifique avaliações de filmes do IMDB como <em>positivas</em> ou <em>negativas</em>.\n",
        "- <a href=\"https://tensorflow.org/hub/tutorials/tf2_arbitrary_image_stylization\">Transferência de estilo</a>: use o aprendizado profundo para transferir o estilo entre imagens.\n",
        "- <a href=\"https://tensorflow.org/hub/tutorials/retrieval_with_tf_hub_universal_encoder_qa\">Perguntas e respostas sobre o codificador de frases universais multilíngue</a>: use um modelo de machine learning para responder a perguntas do conjunto de dados SQuAD.\n",
        "- <a href=\"https://tensorflow.org/hub/tutorials/tweening_conv3d\">Interpolação de vídeo</a>: preveja o que aconteceu em um vídeo entre o primeiro e o último frames.\n"
      ]
    }
  ],
  "metadata": {
    "colab": {
      "collapsed_sections": [],
      "name": "CoLab Python ML",
      "toc_visible": true,
      "provenance": [],
      "include_colab_link": true
    },
    "kernelspec": {
      "display_name": "Python 3",
      "name": "python3"
    }
  },
  "nbformat": 4,
  "nbformat_minor": 0
}