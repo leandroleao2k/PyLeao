{
  "nbformat": 4,
  "nbformat_minor": 0,
  "metadata": {
    "colab": {
      "name": "Random Forrest Example.ipynb",
      "provenance": [],
      "authorship_tag": "ABX9TyNjYwzIk/4nUTnS/c2Spgi4",
      "include_colab_link": true
    },
    "kernelspec": {
      "name": "python3",
      "display_name": "Python 3"
    },
    "language_info": {
      "name": "python"
    }
  },
  "cells": [
    {
      "cell_type": "markdown",
      "metadata": {
        "id": "view-in-github",
        "colab_type": "text"
      },
      "source": [
        "<a href=\"https://colab.research.google.com/github/leandroleao2k/PyLeao/blob/main/Random_Forrest_Example.ipynb\" target=\"_parent\"><img src=\"https://colab.research.google.com/assets/colab-badge.svg\" alt=\"Open In Colab\"/></a>"
      ]
    },
    {
      "cell_type": "markdown",
      "source": [
        "#Random Forrest Exemplo\n",
        "\n",
        "Dataset de notas bancarias \n",
        "Variavel Class 0 para genuino e 1 para forjado"
      ],
      "metadata": {
        "id": "Rl6hYkY-e1H1"
      }
    },
    {
      "cell_type": "code",
      "execution_count": 11,
      "metadata": {
        "colab": {
          "base_uri": "https://localhost:8080/"
        },
        "id": "oqNl9sxiezUD",
        "outputId": "ed0f73da-10e1-4524-9b68-a74d4358a78e"
      },
      "outputs": [
        {
          "output_type": "stream",
          "name": "stdout",
          "text": [
            "[[-1.2943    2.6735   -0.84085  -2.0323  ]\n",
            " [-0.40857   3.0977   -2.9607   -2.6892  ]\n",
            " [-1.5228   -6.4789    5.7568    0.87325 ]\n",
            " ...\n",
            " [ 0.6005    0.99945  -2.2126    0.097399]\n",
            " [ 2.0165   -0.25246   5.1707    1.0763  ]\n",
            " [-2.0759   10.8223    2.6439   -4.837   ]]\n",
            "[1 1 1 ... 1 0 0]\n"
          ]
        }
      ],
      "source": [
        "\n",
        "import pandas as pd\n",
        "from sklearn.model_selection import train_test_split\n",
        "\n",
        "##################\n",
        "# Carga\n",
        "notes_dataFrame = pd.read_csv(\"https://drive.google.com/uc?id=1QIpzPDW6gQxrFqA917MTq3gEpuDgmsPW\")\n",
        "notes_dataFrame.head()\n",
        "\n",
        "###################\n",
        "#Variance, Skewness, Curtosis, Entropy, Class\n",
        "# Criar matrix FEATURES\n",
        "X = notes_dataFrame[[\"Variance\",\" Skewness\", \" Curtosis\", \" Entropy\"]].values\n",
        "# Criar vetor ROTULOS\n",
        "y = notes_dataFrame[\" Class\"].values\n",
        "\n",
        "##################\n",
        "#Split the dataset into training (80%) and testing (20%) sets\n",
        "X_train,X_test,y_train,y_test = train_test_split(X,y,test_size=0.2,random_state=0) \n",
        "print(X_train)\n",
        "print(y_train)"
      ]
    },
    {
      "cell_type": "code",
      "source": [
        "##################\n",
        "# Treinar o Random Forrest com sklearn\n",
        "from sklearn.ensemble import RandomForestClassifier\n",
        "rf_classifier = RandomForestClassifier(criterion='entropy')   \n",
        "rf_classifier.fit(X_train,y_train)\n",
        "\n",
        "##################\n",
        "# Testar o Random Forrest com sklearn com accuracy score\n",
        "y_predict = rf_classifier.predict(X_test)\n",
        "print(y_predict)\n",
        "\n",
        "from sklearn.metrics import accuracy_score,classification_report,confusion_matrix\n",
        "accuracy_score(y_test,y_predict)\n",
        "\n"
      ],
      "metadata": {
        "colab": {
          "base_uri": "https://localhost:8080/"
        },
        "id": "YqhV852Vgfre",
        "outputId": "59886dde-29fe-4e25-a243-db6efadc1a0a"
      },
      "execution_count": 18,
      "outputs": [
        {
          "output_type": "stream",
          "name": "stdout",
          "text": [
            "[1 0 1 0 0 0 0 0 1 1 0 0 1 0 0 0 1 1 0 0 1 0 0 1 0 1 0 1 0 0 1 0 1 1 1 0 0\n",
            " 1 1 1 0 1 0 0 1 1 0 0 1 0 0 1 0 1 1 0 1 1 0 1 1 0 0 0 0 1 1 1 1 0 1 0 1 0\n",
            " 0 1 0 0 0 0 1 1 0 0 1 1 0 0 0 0 0 1 1 1 1 0 0 0 1 1 0 1 0 0 0 1 0 1 1 1 0\n",
            " 1 0 0 1 0 0 0 1 1 0 0 1 1 1 1 1 0 1 0 0 0 0 0 0 1 0 0 0 0 1 0 1 1 0 0 1 0\n",
            " 0 1 0 0 0 0 1 0 1 0 1 0 0 1 0 1 0 1 1 0 1 1 0 1 1 1 1 0 0 0 1 1 0 1 0 0 0\n",
            " 1 0 1 1 0 0 0 1 0 1 0 0 0 1 1 0 0 0 0 0 0 0 0 1 0 0 1 0 0 0 1 1 0 0 0 0 0\n",
            " 0 0 0 1 1 0 0 0 0 1 1 0 1 1 0 0 1 1 0 1 1 0 1 0 0 0 0 0 0 1 1 1 1 0 0 1 1\n",
            " 1 0 0 0 1 0 0 1 0 0 1 1 0 1 1 1]\n"
          ]
        },
        {
          "output_type": "execute_result",
          "data": {
            "text/plain": [
              "0.9890909090909091"
            ]
          },
          "metadata": {},
          "execution_count": 18
        }
      ]
    }
  ]
}