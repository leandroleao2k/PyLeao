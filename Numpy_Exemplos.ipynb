{
  "nbformat": 4,
  "nbformat_minor": 0,
  "metadata": {
    "colab": {
      "name": "Numpy Exemplos.ipynb",
      "provenance": [],
      "collapsed_sections": [],
      "authorship_tag": "ABX9TyNkTgnkYckqMEoAkkbDmKJe",
      "include_colab_link": true
    },
    "kernelspec": {
      "name": "python3",
      "display_name": "Python 3"
    },
    "language_info": {
      "name": "python"
    }
  },
  "cells": [
    {
      "cell_type": "markdown",
      "metadata": {
        "id": "view-in-github",
        "colab_type": "text"
      },
      "source": [
        "<a href=\"https://colab.research.google.com/github/leandroleao2k/PyLeao/blob/main/Numpy_Exemplos.ipynb\" target=\"_parent\"><img src=\"https://colab.research.google.com/assets/colab-badge.svg\" alt=\"Open In Colab\"/></a>"
      ]
    },
    {
      "cell_type": "markdown",
      "source": [
        "# Exemplos com NumPy"
      ],
      "metadata": {
        "id": "ntJXMZBPuu0x"
      }
    },
    {
      "cell_type": "code",
      "execution_count": 27,
      "metadata": {
        "colab": {
          "base_uri": "https://localhost:8080/"
        },
        "id": "K6cnppwEup5L",
        "outputId": "414d4357-475b-4ede-feb1-46a1609de561"
      },
      "outputs": [
        {
          "output_type": "stream",
          "name": "stdout",
          "text": [
            "range(0, 10000)\n",
            "100 loops, best of 5: 2.77 ms per loop\n"
          ]
        }
      ],
      "source": [
        "import numpy as np\n",
        "\n",
        "L = range(10000)\n",
        "print(L)\n",
        "%timeit [x**2 for x in L]\n"
      ]
    },
    {
      "cell_type": "code",
      "source": [
        "print(\"fazendo com numpy...\")\n",
        "#a  = np.array([1,2,3,4])\n",
        "n = np.arange(10000)\n",
        "%timeit n**2\n"
      ],
      "metadata": {
        "colab": {
          "base_uri": "https://localhost:8080/"
        },
        "id": "Qcn1WOPawTGK",
        "outputId": "0525ffe0-f7d6-4024-ac89-8455c252bc18"
      },
      "execution_count": 28,
      "outputs": [
        {
          "output_type": "stream",
          "name": "stdout",
          "text": [
            "fazendo com numpy...\n",
            "The slowest run took 15.21 times longer than the fastest. This could mean that an intermediate result is being cached.\n",
            "100000 loops, best of 5: 6.52 µs per loop\n"
          ]
        }
      ]
    }
  ]
}