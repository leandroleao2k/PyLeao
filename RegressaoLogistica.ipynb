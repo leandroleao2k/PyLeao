{
  "cells": [
    {
      "cell_type": "markdown",
      "metadata": {
        "id": "view-in-github",
        "colab_type": "text"
      },
      "source": [
        "<a href=\"https://colab.research.google.com/github/leandroleao2k/PyLeao/blob/main/RegressaoLogistica.ipynb\" target=\"_parent\"><img src=\"https://colab.research.google.com/assets/colab-badge.svg\" alt=\"Open In Colab\"/></a>"
      ]
    },
    {
      "cell_type": "markdown",
      "source": [
        "# Regressão Logística\n"
      ],
      "metadata": {
        "id": "BXhSnl0ffFkL"
      }
    },
    {
      "cell_type": "markdown",
      "source": [
        "**negrito**# Ex1 Logistic Regression trabalha a predição de variáveis com bi valores. "
      ],
      "metadata": {
        "id": "Mm7mNjjyXDJ1"
      }
    },
    {
      "cell_type": "code",
      "source": [
        "# 1 Import libs\n",
        "import pandas as pd\n",
        "import numpy as np\n",
        "from sklearn.model_selection import train_test_split\n",
        "from sklearn.linear_model import LogisticRegression\n",
        "from sklearn import metrics\n",
        "import matplotlib.pyplot as plt\n",
        "\n"
      ],
      "metadata": {
        "id": "W_d6htZHCZFl"
      },
      "execution_count": 1,
      "outputs": []
    },
    {
      "cell_type": "code",
      "source": [
        "#2 Carregar dados\n",
        "temperatura =  [[30], [12], [14], [18], [25], [5], [15], [27], [28], [12], [14], [18], [25], [5], [15], [27]]\n",
        "jaqueta = [False, True, True, True, False, True, True, False, False, True, True, True, False, True, True, False]\n",
        "\n",
        "lr = LogisticRegression()\n",
        "lr.fit(temperatura,jaqueta)\n",
        "deveVestirJaqueta = [ [25], [4], [12], [35]]\n",
        "lr.predict(deveVestirJaqueta)"
      ],
      "metadata": {
        "colab": {
          "base_uri": "https://localhost:8080/"
        },
        "id": "DzkT8Jp_CmBp",
        "outputId": "93dafb30-a768-4e56-f6e0-9cbfb403a926"
      },
      "execution_count": 2,
      "outputs": [
        {
          "output_type": "execute_result",
          "data": {
            "text/plain": [
              "array([False,  True,  True, False])"
            ]
          },
          "metadata": {},
          "execution_count": 2
        }
      ]
    },
    {
      "cell_type": "code",
      "source": [
        "#3 prepare the model \n",
        "#define the predictor variables and the response variable\n",
        "X = temperatura\n",
        "y = jaqueta\n",
        "\n",
        "#4 split the dataset into training (80%) and testing (20%) sets\n",
        "X_train,X_test,y_train,y_test = train_test_split(X,y,test_size=0.2,random_state=0) \n",
        "print(X_train)\n",
        "print(y_train)\n",
        "\n",
        "#5 Fit the logist regression model\n",
        "#instantiate the model\n",
        "log_regression = LogisticRegression()\n",
        "\n",
        "#fit the model using the training data\n",
        "log_regression.fit(X_train,y_train)\n",
        "\n",
        "#use model to make predictions on test data\n",
        "y_pred = log_regression.predict(X_test)\n",
        "\n",
        "print(y_pred)\n"
      ],
      "metadata": {
        "colab": {
          "base_uri": "https://localhost:8080/"
        },
        "id": "jvkvVvSMC6Nf",
        "outputId": "51ad2967-5489-4e2d-d196-1ae72e8c0199"
      },
      "execution_count": 3,
      "outputs": [
        {
          "output_type": "stream",
          "name": "stdout",
          "text": [
            "[[5], [25], [14], [15], [14], [27], [27], [18], [18], [30], [5], [25]]\n",
            "[True, False, True, True, True, False, False, True, True, False, True, False]\n",
            "[ True  True False  True]\n"
          ]
        }
      ]
    },
    {
      "cell_type": "code",
      "source": [
        "#6 Model diagnostics\n",
        "# create a confusion matrix to test model\n",
        "\n",
        "print(\"y_test:\", y_test, \" y_pred:\", y_pred )\n",
        "cnf_matrix = metrics.confusion_matrix(y_test, y_pred)\n",
        "print(cnf_matrix)\n",
        "\n",
        "print(\"Accuracy:\",metrics.accuracy_score(y_test, y_pred))\n"
      ],
      "metadata": {
        "colab": {
          "base_uri": "https://localhost:8080/"
        },
        "id": "_XJg7G_cENeT",
        "outputId": "4fb0c1cf-3962-4ed5-c3a7-0da9b69e24df"
      },
      "execution_count": 4,
      "outputs": [
        {
          "output_type": "stream",
          "name": "stdout",
          "text": [
            "y_test: [True, True, False, True]  y_pred: [ True  True False  True]\n",
            "[[1 0]\n",
            " [0 3]]\n",
            "Accuracy: 1.0\n"
          ]
        }
      ]
    },
    {
      "cell_type": "code",
      "source": [
        "#The higher the AUC (area under the curve), the more accurately our model is able to predict outcomes:\n",
        "#define metrics\n",
        "from sklearn.metrics import roc_auc_score\n",
        "\n",
        "y_pred_proba = log_regression.predict_proba(X_test)[::,1]\n",
        "fpr, tpr, _ = metrics.roc_curve(y_test,  y_pred_proba)\n",
        "\n",
        "try:\n",
        "    auc = metrics.roc_auc_score(y_test, y_pred_proba)\n",
        "    plt.plot(fpr,tpr,label=\"AUC=\"+str(auc))\n",
        "except ValueError:\n",
        "    pass\n",
        "\n",
        "#create ROC curve\n",
        "plt.legend(loc=4)\n",
        "plt.show()"
      ],
      "metadata": {
        "colab": {
          "base_uri": "https://localhost:8080/",
          "height": 265
        },
        "id": "Tpgyfg6jj0ho",
        "outputId": "829240f6-d881-4c66-cb25-30349c857a6d"
      },
      "execution_count": 5,
      "outputs": [
        {
          "output_type": "display_data",
          "data": {
            "text/plain": [
              "<Figure size 432x288 with 1 Axes>"
            ],
            "image/png": "[encoded data removed]"
          },
          "metadata": {
            "needs_background": "light"
          }
        }
      ]
    },
    {
      "cell_type": "markdown",
      "source": [
        "# Exemplo SciKit Learn"
      ],
      "metadata": {
        "id": "8Wvkpthf0ULK"
      }
    },
    {
      "cell_type": "markdown",
      "source": [
        ""
      ],
      "metadata": {
        "id": "hkkK-1qY4g-M"
      }
    },
    {
      "cell_type": "code",
      "source": [
        "\n",
        "from time import time\n",
        "import numpy as np\n",
        "import matplotlib.pyplot as plt\n",
        "\n",
        "from sklearn import linear_model\n",
        "from sklearn import datasets\n",
        "from sklearn.svm import l1_min_c\n",
        "\n",
        "iris = datasets.load_iris()\n",
        "X = iris.data\n",
        "y = iris.target\n",
        "\n",
        "X = X[y != 2]\n",
        "y = y[y != 2]\n",
        "\n",
        "X /= X.max()  # Normalize X to speed-up convergence\n",
        "\n",
        "# #############################################################################\n",
        "# Demo path functions\n",
        "\n",
        "cs = l1_min_c(X, y, loss=\"log\") * np.logspace(0, 7, 16)\n",
        "\n",
        "\n",
        "print(\"Computing regularization path ...\")\n",
        "start = time()\n",
        "clf = linear_model.LogisticRegression(\n",
        "    penalty=\"l1\",\n",
        "    solver=\"liblinear\",\n",
        "    tol=1e-6,\n",
        "    max_iter=int(1e6),\n",
        "    warm_start=True,\n",
        "    intercept_scaling=10000.0,\n",
        ")\n",
        "coefs_ = []\n",
        "for c in cs:\n",
        "    clf.set_params(C=c)\n",
        "    clf.fit(X, y)\n",
        "    coefs_.append(clf.coef_.ravel().copy())\n",
        "print(\"Levou %0.3fs\" % (time() - start))\n",
        "\n",
        "coefs_ = np.array(coefs_)\n",
        "plt.plot(np.log10(cs), coefs_, marker=\"o\")\n",
        "ymin, ymax = plt.ylim()\n",
        "plt.xlabel(\"log(C)\")\n",
        "plt.ylabel(\"Coefficients\")\n",
        "plt.title(\"Logistic Regression Path\")\n",
        "plt.axis(\"tight\")\n",
        "plt.show()"
      ],
      "metadata": {
        "colab": {
          "base_uri": "https://localhost:8080/",
          "height": 330
        },
        "id": "loWDKyDy0aYV",
        "outputId": "00da205d-2bed-4255-b825-ddcebbe1974d"
      },
      "execution_count": 6,
      "outputs": [
        {
          "output_type": "stream",
          "name": "stdout",
          "text": [
            "Computing regularization path ...\n",
            "This took 0.070s\n"
          ]
        },
        {
          "output_type": "display_data",
          "data": {
            "text/plain": [
              "<Figure size 432x288 with 1 Axes>"
            ],
            "image/png": "[encoded data removed]"
          },
          "metadata": {
            "needs_background": "light"
          }
        }
      ]
    },
    {
      "cell_type": "markdown",
      "source": [
        "# MatPlot\n"
      ],
      "metadata": {
        "id": "2cVxe_BxTl1j"
      }
    },
    {
      "cell_type": "code",
      "source": [
        "import numpy as np\n",
        "import matplotlib.pyplot as plt\n",
        "x = np.linspace(0, 2, 1000)  # Sample data.\n",
        "\n",
        "# Note that even in the OO-style, we use `.pyplot.figure` to create the Figure.\n",
        "fig, ax = plt.subplots( )\n",
        "ax.plot(x, x, label='linear')  # Plot some data on the axes.\n",
        "ax.plot(x, x**2, label='quadratic')  # Plot more data on the axes...\n",
        "ax.plot(x, x**3, label='cubic')  # ... and some more.\n",
        "ax.set_xlabel('x label')  # Add an x-label to the axes.\n",
        "ax.set_ylabel('y label')  # Add a y-label to the axes.\n",
        "ax.set_title(\"Simple Plot\")  # Add a title to the axes.\n",
        "ax.legend();  # Add a legend."
      ],
      "metadata": {
        "id": "vn6JMI_FTqBf",
        "outputId": "bece646f-641b-4363-e6ba-a5cd04dc3e2b",
        "colab": {
          "base_uri": "https://localhost:8080/",
          "height": 295
        }
      },
      "execution_count": 7,
      "outputs": [
        {
          "output_type": "display_data",
          "data": {
            "text/plain": [
              "<Figure size 432x288 with 1 Axes>"
            ],
            "image/png": "[encoded data removed]"
          },
          "metadata": {
            "needs_background": "light"
          }
        }
      ]
    }
  ],
  "metadata": {
    "colab": {
      "collapsed_sections": [],
      "name": "CoLab Python ML",
      "toc_visible": true,
      "provenance": [],
      "include_colab_link": true
    },
    "kernelspec": {
      "display_name": "Python 3",
      "name": "python3"
    }
  },
  "nbformat": 4,
  "nbformat_minor": 0
}